{
  "nbformat": 4,
  "nbformat_minor": 0,
  "metadata": {
    "colab": {
      "provenance": [],
      "authorship_tag": "ABX9TyMfeBkERPGe5cEl4FfMVsiR",
      "include_colab_link": true
    },
    "kernelspec": {
      "name": "python3",
      "display_name": "Python 3"
    },
    "language_info": {
      "name": "python"
    }
  },
  "cells": [
    {
      "cell_type": "markdown",
      "metadata": {
        "id": "view-in-github",
        "colab_type": "text"
      },
      "source": [
        "<a href=\"https://colab.research.google.com/github/AatiqahHarmine/23CSBTB30/blob/main/Untitled1.ipynb\" target=\"_parent\"><img src=\"https://colab.research.google.com/assets/colab-badge.svg\" alt=\"Open In Colab\"/></a>"
      ]
    },
    {
      "cell_type": "code",
      "execution_count": null,
      "metadata": {
        "colab": {
          "base_uri": "https://localhost:8080/"
        },
        "id": "wVieDtoc0yS7",
        "outputId": "d3a19b86-ed4c-4d51-dcea-19b6320255b9"
      },
      "outputs": [
        {
          "output_type": "stream",
          "name": "stdout",
          "text": [
            "   Student ID     S Name Course  Contact ID\n",
            "0        1860    Aatiqah    CSE  9000356894\n",
            "1        1176    Anushka    CSE  7889367827\n",
            "2        4038    Hasitha     DS  8976553678\n",
            "3        1641      Rithu    CSE  8754328766\n",
            "4        1637   Shryitha    CSE  9875379282\n",
            "5        1554       Achi    CSE  6379876355\n",
            "6        1600      Arsha    CSE  9876546738\n",
            "7        1927  Varshitha    CSE  9865527488\n",
            "8        1929      Kavya    CSE  9876543210\n",
            "9        4049     Rimsha   AIML  8976574321\n",
            "   Student ID Course\n",
            "0        1860    CSE\n",
            "1        1176    CSE\n",
            "2        4038     DS\n",
            "3        1641    CSE\n",
            "4        1637    CSE\n",
            "5        1554    CSE\n",
            "6        1600    CSE\n",
            "7        1927    CSE\n",
            "8        1929    CSE\n",
            "9        4049   AIML\n"
          ]
        }
      ],
      "source": [
        "import pandas as pd\n",
        "data=pd.read_excel(\"AIML.xlsx\")\n",
        "print(data)\n",
        "df=pd.DataFrame(data,columns=(\"Student ID\",\"Course\"))\n",
        "print(df)"
      ]
    },
    {
      "cell_type": "code",
      "source": [
        "import pandas as pd\n",
        "data=pd.read_csv(\"AIML1.csv\")\n",
        "print(data)\n",
        "df=pd.DataFrame(data,columns=(\"Student ID\",\"Course\"))\n",
        "print(df)"
      ],
      "metadata": {
        "colab": {
          "base_uri": "https://localhost:8080/"
        },
        "id": "BK1R65lt3M3e",
        "outputId": "d6944d32-fa96-4f8a-9fc9-f6e471403963"
      },
      "execution_count": null,
      "outputs": [
        {
          "output_type": "stream",
          "name": "stdout",
          "text": [
            "   Student ID     S Name Course  Contact ID\n",
            "0        1860    Aatiqah    CSE  9000356894\n",
            "1        1176    Anushka    CSE  7889367827\n",
            "2        4038    Hasitha     DS  8976553678\n",
            "3        1641      Rithu    CSE  8754328766\n",
            "4        1637   Shryitha    CSE  9875379282\n",
            "5        1554       Achi    CSE  6379876355\n",
            "6        1600      Arsha    CSE  9876546738\n",
            "7        1927  Varshitha    CSE  9865527488\n",
            "8        1929      Kavya    CSE  9876543210\n",
            "9        4049     Rimsha   AIML  8976574321\n",
            "   Student ID Course\n",
            "0        1860    CSE\n",
            "1        1176    CSE\n",
            "2        4038     DS\n",
            "3        1641    CSE\n",
            "4        1637    CSE\n",
            "5        1554    CSE\n",
            "6        1600    CSE\n",
            "7        1927    CSE\n",
            "8        1929    CSE\n",
            "9        4049   AIML\n"
          ]
        }
      ]
    },
    {
      "cell_type": "code",
      "source": [
        "import pandas as pd\n",
        "data=pd.read_table(\"AIML2.txt\")\n",
        "print(data)\n",
        "df=pd.DataFrame(data,columns=(\"Student ID\",\"Course\"))\n",
        "print(df)"
      ],
      "metadata": {
        "colab": {
          "base_uri": "https://localhost:8080/"
        },
        "id": "tdpAcaPG6H90",
        "outputId": "7eb99827-3f3b-49ff-8bbb-c61899bfd67b"
      },
      "execution_count": null,
      "outputs": [
        {
          "output_type": "stream",
          "name": "stdout",
          "text": [
            "   Student ID     S Name Course  Contact ID\n",
            "0        1860    Aatiqah    CSE  9000356894\n",
            "1        1176    Anushka    CSE  7889367827\n",
            "2        4038    Hasitha     DS  8976553678\n",
            "3        1641      Rithu    CSE  8754328766\n",
            "4        1637   Shryitha    CSE  9875379282\n",
            "5        1554       Achi    CSE  6379876355\n",
            "6        1600      Arsha    CSE  9876546738\n",
            "7        1927  Varshitha    CSE  9865527488\n",
            "8        1929      Kavya    CSE  9876543210\n",
            "9        4049     Rimsha   AIML  8976574321\n",
            "   Student ID Course\n",
            "0        1860    CSE\n",
            "1        1176    CSE\n",
            "2        4038     DS\n",
            "3        1641    CSE\n",
            "4        1637    CSE\n",
            "5        1554    CSE\n",
            "6        1600    CSE\n",
            "7        1927    CSE\n",
            "8        1929    CSE\n",
            "9        4049   AIML\n"
          ]
        }
      ]
    }
  ]
}